{
 "cells": [
  {
   "cell_type": "code",
   "execution_count": 12,
   "id": "47a67c4c",
   "metadata": {},
   "outputs": [
    {
     "data": {
      "text/plain": [
       "(0.2914567944778671, 16.69924423399362)"
      ]
     },
     "execution_count": 12,
     "metadata": {},
     "output_type": "execute_result"
    }
   ],
   "source": [
    "import math\n",
    "\n",
    "#retvinklet trekant, a længde, b højde, c hypotenusen\n",
    "#vinkel mellem a-c, antaget a = 10 og b=3\n",
    "#radians, degrees\n",
    "math.atan2(3,10), math.degrees(math.atan2(3,10))"
   ]
  },
  {
   "cell_type": "code",
   "execution_count": 13,
   "id": "c204e213",
   "metadata": {},
   "outputs": [
    {
     "data": {
      "text/plain": [
       "(1.2793395323170296, 73.30075576600639)"
      ]
     },
     "execution_count": 13,
     "metadata": {},
     "output_type": "execute_result"
    }
   ],
   "source": [
    "#vinkel mellem b-c\n",
    "math.atan2(10,3), math.degrees(math.atan2(10,3))"
   ]
  },
  {
   "cell_type": "code",
   "execution_count": 14,
   "id": "53a956f1",
   "metadata": {},
   "outputs": [],
   "source": [
    "def camera_b_distance(f, g):\n",
    "    \"\"\"\n",
    "    camera_b_distance returns the distance (b) where the CCD should be placed\n",
    "    when the object distance (g) and the focal length (f) are given\n",
    "    :param f: Focal length\n",
    "    :param g: Object distance\n",
    "    :return: b, the distance where the CCD should be placed\n",
    "    \"\"\"\n",
    "    return (1/(1/f-1/g))"
   ]
  },
  {
   "cell_type": "code",
   "execution_count": 15,
   "id": "a629f066",
   "metadata": {},
   "outputs": [],
   "source": [
    "def camera_f_distance(b, g):\n",
    "    \"\"\"\n",
    "    camera_b_distance returns the distance (b) where the CCD should be placed\n",
    "    when the object distance (g) and the focal length (f) are given\n",
    "    :param f: Focal length\n",
    "    :param g: Object distance\n",
    "    :return: b, the distance where the CCD should be placed\n",
    "    \"\"\"\n",
    "    return (1/(1/g+1/b))"
   ]
  },
  {
   "cell_type": "code",
   "execution_count": 16,
   "id": "215e8dab",
   "metadata": {},
   "outputs": [],
   "source": [
    "def camera_g_distance(f, b):\n",
    "    \"\"\"\n",
    "    camera_b_distance returns the distance (b) where the CCD should be placed\n",
    "    when the object distance (g) and the focal length (f) are given\n",
    "    :param f: Focal length\n",
    "    :param g: Object distance\n",
    "    :return: b, the distance where the CCD should be placed\n",
    "    \"\"\"\n",
    "    return (1/(1/f-1/b))"
   ]
  },
  {
   "cell_type": "code",
   "execution_count": 27,
   "id": "2112cab3",
   "metadata": {},
   "outputs": [
    {
     "data": {
      "text/plain": [
       "(5.0083472454090145, 4.9916805324459235, 255.0000000000009)"
      ]
     },
     "execution_count": 27,
     "metadata": {},
     "output_type": "execute_result"
    }
   ],
   "source": [
    "#everything in millimeters\n",
    "#g = 3 m = 3000 mm\n",
    "#f = 5 mm\n",
    "#b = 5 mm\n",
    "camera_b_distance(5, 3000), camera_f_distance(5, 3000), camera_g_distance(5, 5.1)"
   ]
  },
  {
   "cell_type": "code",
   "execution_count": 28,
   "id": "3ef7fe7e",
   "metadata": {},
   "outputs": [
    {
     "data": {
      "text/plain": [
       "5.005005005005005"
      ]
     },
     "execution_count": 28,
     "metadata": {},
     "output_type": "execute_result"
    }
   ],
   "source": [
    "#1 (in mm)\n",
    "camera_b_distance(5, 5000)"
   ]
  },
  {
   "cell_type": "code",
   "execution_count": 34,
   "id": "addf7c0e",
   "metadata": {},
   "outputs": [
    {
     "data": {
      "text/plain": [
       "1.8018018018018018"
      ]
     },
     "execution_count": 34,
     "metadata": {},
     "output_type": "execute_result"
    }
   ],
   "source": [
    "#2\n",
    "#b/B = g/G -> B=b/(g/G) -> B=b*G/g\n",
    "B = (camera_b_distance(5, 5000)*1800)/5000\n",
    "B"
   ]
  },
  {
   "cell_type": "code",
   "execution_count": 35,
   "id": "5a1080fa",
   "metadata": {},
   "outputs": [
    {
     "name": "stdout",
     "output_type": "stream",
     "text": [
      "Sidelength of a single pixel is 0.01 mm\n"
     ]
    }
   ],
   "source": [
    "#3\n",
    "px_size = 4.8 /480\n",
    "print(f\"Sidelength of a single pixel is {px_size} mm\")"
   ]
  },
  {
   "cell_type": "code",
   "execution_count": 36,
   "id": "3941a37d",
   "metadata": {},
   "outputs": [
    {
     "name": "stdout",
     "output_type": "stream",
     "text": [
      "Thomas will be 180.18018018018017 pixels tall\n"
     ]
    }
   ],
   "source": [
    "h = B / px_size \n",
    "print(f\"Thomas will be {h} pixels tall\")"
   ]
  },
  {
   "cell_type": "code",
   "execution_count": 41,
   "id": "cbe64f3b",
   "metadata": {},
   "outputs": [
    {
     "name": "stdout",
     "output_type": "stream",
     "text": [
      "Horizontal FOV is 65.23848614238565 deg\n"
     ]
    }
   ],
   "source": [
    "#CCD width = 6.4mm --> /2 = 3.2 mm\n",
    "FOV_x = math.atan2(3.2, 5) * 2 * 180 / math.pi\n",
    "print(f\"Horizontal FOV is {FOV_x} deg\")"
   ]
  },
  {
   "cell_type": "code",
   "execution_count": 42,
   "id": "d7e2d854",
   "metadata": {},
   "outputs": [
    {
     "name": "stdout",
     "output_type": "stream",
     "text": [
      "Horizontal FOV is 51.28201164861056 deg\n"
     ]
    }
   ],
   "source": [
    "#CCD height = 4.8mm --> /2 = 2.4 mm\n",
    "FOV_x = math.atan2(2.4, 5) * 2 * 180 / math.pi\n",
    "print(f\"Horizontal FOV is {FOV_x} deg\")"
   ]
  },
  {
   "cell_type": "code",
   "execution_count": null,
   "id": "a10842c7",
   "metadata": {},
   "outputs": [],
   "source": []
  }
 ],
 "metadata": {
  "kernelspec": {
   "display_name": "billedanalyse",
   "language": "python",
   "name": "billedanalyse"
  },
  "language_info": {
   "codemirror_mode": {
    "name": "ipython",
    "version": 3
   },
   "file_extension": ".py",
   "mimetype": "text/x-python",
   "name": "python",
   "nbconvert_exporter": "python",
   "pygments_lexer": "ipython3",
   "version": "3.10.4"
  }
 },
 "nbformat": 4,
 "nbformat_minor": 5
}
